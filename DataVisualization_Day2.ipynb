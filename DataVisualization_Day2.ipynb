{
  "nbformat": 4,
  "nbformat_minor": 0,
  "metadata": {
    "colab": {
      "name": "DataVisualization_Day2.ipynb",
      "provenance": []
    },
    "kernelspec": {
      "name": "python3",
      "display_name": "Python 3"
    },
    "language_info": {
      "name": "python"
    }
  },
  "cells": [
    {
      "cell_type": "markdown",
      "metadata": {
        "id": "D6DVOH4dKQka"
      },
      "source": [
        "Data Visualization Day 2 Assignment                                              \n",
        "Suyog Jagtap"
      ]
    },
    {
      "cell_type": "code",
      "metadata": {
        "id": "PHqwtJaIIcbm"
      },
      "source": [
        "import matplotlib.pyplot as plt\n",
        "import pandas as pd\n",
        "import numpy as np\n",
        "%matplotlib inline\n",
        "import seaborn as sns\n",
        "from numpy.random import randn,randint,sample,uniform"
      ],
      "execution_count": 1,
      "outputs": []
    },
    {
      "cell_type": "code",
      "metadata": {
        "colab": {
          "base_uri": "https://localhost:8080/",
          "height": 359
        },
        "id": "IL52jDzXIdwU",
        "outputId": "b449f7db-cf0d-44d1-bca5-29844561433d"
      },
      "source": [
        "rendomnum = pd.DataFrame(randn(10,4),columns=(\"a\",\"b\",\"c\",\"d\"))\n",
        "rendomnum"
      ],
      "execution_count": 9,
      "outputs": [
        {
          "output_type": "execute_result",
          "data": {
            "text/html": [
              "<div>\n",
              "<style scoped>\n",
              "    .dataframe tbody tr th:only-of-type {\n",
              "        vertical-align: middle;\n",
              "    }\n",
              "\n",
              "    .dataframe tbody tr th {\n",
              "        vertical-align: top;\n",
              "    }\n",
              "\n",
              "    .dataframe thead th {\n",
              "        text-align: right;\n",
              "    }\n",
              "</style>\n",
              "<table border=\"1\" class=\"dataframe\">\n",
              "  <thead>\n",
              "    <tr style=\"text-align: right;\">\n",
              "      <th></th>\n",
              "      <th>a</th>\n",
              "      <th>b</th>\n",
              "      <th>c</th>\n",
              "      <th>d</th>\n",
              "    </tr>\n",
              "  </thead>\n",
              "  <tbody>\n",
              "    <tr>\n",
              "      <th>0</th>\n",
              "      <td>-2.862643</td>\n",
              "      <td>-1.055756</td>\n",
              "      <td>0.713448</td>\n",
              "      <td>0.930849</td>\n",
              "    </tr>\n",
              "    <tr>\n",
              "      <th>1</th>\n",
              "      <td>-0.789138</td>\n",
              "      <td>-1.063742</td>\n",
              "      <td>0.882268</td>\n",
              "      <td>1.854465</td>\n",
              "    </tr>\n",
              "    <tr>\n",
              "      <th>2</th>\n",
              "      <td>0.233369</td>\n",
              "      <td>-1.199004</td>\n",
              "      <td>-0.049883</td>\n",
              "      <td>-0.369777</td>\n",
              "    </tr>\n",
              "    <tr>\n",
              "      <th>3</th>\n",
              "      <td>1.057428</td>\n",
              "      <td>0.816317</td>\n",
              "      <td>1.192324</td>\n",
              "      <td>0.654594</td>\n",
              "    </tr>\n",
              "    <tr>\n",
              "      <th>4</th>\n",
              "      <td>2.096422</td>\n",
              "      <td>0.561875</td>\n",
              "      <td>0.761945</td>\n",
              "      <td>-0.073201</td>\n",
              "    </tr>\n",
              "    <tr>\n",
              "      <th>5</th>\n",
              "      <td>0.031933</td>\n",
              "      <td>-0.118550</td>\n",
              "      <td>0.618428</td>\n",
              "      <td>0.047915</td>\n",
              "    </tr>\n",
              "    <tr>\n",
              "      <th>6</th>\n",
              "      <td>1.182384</td>\n",
              "      <td>0.472605</td>\n",
              "      <td>-1.128894</td>\n",
              "      <td>0.010329</td>\n",
              "    </tr>\n",
              "    <tr>\n",
              "      <th>7</th>\n",
              "      <td>-0.882152</td>\n",
              "      <td>-0.022562</td>\n",
              "      <td>0.075970</td>\n",
              "      <td>0.088025</td>\n",
              "    </tr>\n",
              "    <tr>\n",
              "      <th>8</th>\n",
              "      <td>1.010698</td>\n",
              "      <td>0.308093</td>\n",
              "      <td>0.554405</td>\n",
              "      <td>0.035527</td>\n",
              "    </tr>\n",
              "    <tr>\n",
              "      <th>9</th>\n",
              "      <td>-0.727861</td>\n",
              "      <td>-0.821322</td>\n",
              "      <td>1.387730</td>\n",
              "      <td>-0.532300</td>\n",
              "    </tr>\n",
              "  </tbody>\n",
              "</table>\n",
              "</div>"
            ],
            "text/plain": [
              "          a         b         c         d\n",
              "0 -2.862643 -1.055756  0.713448  0.930849\n",
              "1 -0.789138 -1.063742  0.882268  1.854465\n",
              "2  0.233369 -1.199004 -0.049883 -0.369777\n",
              "3  1.057428  0.816317  1.192324  0.654594\n",
              "4  2.096422  0.561875  0.761945 -0.073201\n",
              "5  0.031933 -0.118550  0.618428  0.047915\n",
              "6  1.182384  0.472605 -1.128894  0.010329\n",
              "7 -0.882152 -0.022562  0.075970  0.088025\n",
              "8  1.010698  0.308093  0.554405  0.035527\n",
              "9 -0.727861 -0.821322  1.387730 -0.532300"
            ]
          },
          "metadata": {
            "tags": []
          },
          "execution_count": 9
        }
      ]
    },
    {
      "cell_type": "code",
      "metadata": {
        "colab": {
          "base_uri": "https://localhost:8080/",
          "height": 295
        },
        "id": "_MKDr0BzIyIC",
        "outputId": "0c16ac63-3916-45a0-eac2-16df133576f0"
      },
      "source": [
        "rendomnum.plot(kind = 'bar',title = \"Bar Chart\",legend = True)"
      ],
      "execution_count": 14,
      "outputs": [
        {
          "output_type": "execute_result",
          "data": {
            "text/plain": [
              "<matplotlib.axes._subplots.AxesSubplot at 0x7f14cd426f50>"
            ]
          },
          "metadata": {
            "tags": []
          },
          "execution_count": 14
        },
        {
          "output_type": "display_data",
          "data": {
            "image/png": "[encoded data removed]",
            "text/plain": [
              "<Figure size 432x288 with 1 Axes>"
            ]
          },
          "metadata": {
            "tags": [],
            "needs_background": "light"
          }
        }
      ]
    },
    {
      "cell_type": "code",
      "metadata": {
        "id": "fecduCK5Jrkk"
      },
      "source": [
        ""
      ],
      "execution_count": null,
      "outputs": []
    }
  ]
}